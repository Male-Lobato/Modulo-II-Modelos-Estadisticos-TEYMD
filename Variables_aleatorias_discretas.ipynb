{
  "cells": [
    {
      "cell_type": "markdown",
      "id": "d50d92d5",
      "metadata": {
        "id": "d50d92d5"
      },
      "source": [
        "# Variables aleatorias discretas"
      ]
    },
    {
      "cell_type": "code",
      "source": [
        "import numpy as np #Importamos el modelo numpy\n",
        "import numpy.random as npr #para genrar numeros aleatorios\n",
        "import scipy.stats as sps #importamos modulo scipy\n",
        "from scipy.stats import randint #para trabajar con una dist uniforme discreta en un rango de enteros\n",
        "import matplotlib.pyplot as plt\n",
        "import random #modulo estandar de python para generar numeros aleatorios\n",
        "import warnings  #controlar mensajes de advertencia\n",
        "warnings.filterwarnings(\"ignore\")"
      ],
      "metadata": {
        "id": "hazBqGhgcBr3"
      },
      "id": "hazBqGhgcBr3",
      "execution_count": 1,
      "outputs": []
    },
    {
      "cell_type": "markdown",
      "id": "bd499bb5",
      "metadata": {
        "id": "bd499bb5"
      },
      "source": [
        "# Variable aleatoria uniforme discreta\n",
        "\n",
        "Una variable aleatoria $X$ tiene distribución uniforme discreta en el conjunto $\\{x_{1},\\dots,x_{n}\\}$ si su función de masa de probabilidades está dada por\n",
        "$$f_{X}(k)=\\mathbb{P}(X=k)=\\begin{cases}\n",
        "\\frac{1}{n} &\\quad \\text{si } k\\in\\{x_{1},\\dots,x_{n}\\} \\\\\n",
        "0 &\\quad \\text{en otro caso}\n",
        "\\end{cases}$$\n",
        "\n",
        "**Notación:** $X\\sim Unif(x_{1},\\dots,x_{n}).$\n",
        "\n",
        "Se llama uniforme porque cada uno de los posibles valores de $X$ tienen la misma probabilidad.\n",
        "\n",
        "Si $X\\sim Unif(x_{1},\\dots,x_{n})$, en este caso, se tiene:\n",
        "\t$$\\mathbb{E}[X] = \\sum_{k}kf_{X}(k)=\\frac{x_n + x_1}{2}.$$\n",
        "\ty\n",
        "\t$$\\text{Var}(X) = \\mathbb{E}[(X-\\mathbb{E}[X])^{2}] =\\sum_{k}(k-\\mathbb{E}[X])^{2}f_{X}(k)=\\frac{(x_n - x_1+1)^2-1}{12}$$\n",
        "\n",
        "$\\color{red}{\\text{Ejercicio 1.}}$ Verifica que, en efecto, la esperanza y varianza de una variable aleatoria geométrica está dada como antes.\n",
        "    \n",
        "**Ejemplo** Se lleva a cabo una rifa donde los boletos están enumerados del $00$ al $99$. Si $Y$ es la variable aleatoria definida como el número del boleto ganador, entonces:  \n",
        "$$\\mathbb{P}(Y=k)=\\begin{cases}\n",
        "\t\\frac{1}{100} &\\quad \\text{si } k=00,01,\\dots,99 \\\\\n",
        "\t0 &\\quad \\text{en otro caso}\n",
        "\\end{cases}$$\n",
        "Consideremos que el premio de la rifa se determina a partir del número premiado de la siguiente forma: $X=Y+1$, donde $X$ es el monto del premio en pesos y $Y$ es el número premiado, entonces $X$ es una variable aleatoria, pues es una función de $Y$, y además se tiene\n",
        "\t$$f_{X}(k)=\\begin{cases}\n",
        "\t\t\\frac{1}{100} &\\quad \\text{si } x=1,2,\\dots,100 \\\\\n",
        "\t\t0 &\\quad \\text{en otro caso}\n",
        "\t\\end{cases}$$\n",
        "Entonces, la esperanza y varianza de $X$ están dados por:\n",
        "\t$$\\mathbb{E}[X] = \\sum_{k=1}^{100}k\\left(\\frac{1}{100}\\right) = \\frac{1}{100}\\sum_{k=1}^{100}k = \\frac{1}{100}\\left[\\frac{100(100+1)}{2}\\right] = 50.5$$\n",
        "\ty\n",
        "\t$$\\text{Var}(X) = \\mathbb{E}[X^{2}]-(\\mathbb{E}[X])^{2} = \\sum_{k=1}^{100}k^{2}\\left(\\frac{1}{100}\\right)-(50.5)^{2} = 833.25$$   \n",
        "\n",
        "\n",
        "    \n",
        "Supongamos que nos interesa calcular la probabilidad de que el premio sea mayor a $\\$80$, entonces\n",
        "\t$$\\mathbb{P}(X>80) = \\sum_{k=81}^{100}\\frac{1}{100} = \\frac{20}{100} = 0.2$$\n",
        "\tSu función de distribución esta dada por:\n",
        "\t$$F_{X}(x)=\\mathbb{P}(X\\le x)=\\begin{cases}\n",
        "\t\t0 &\\quad \\text{si } x<1 \\\\\n",
        "\t\t\\frac{x}{100} &\\quad \\text{si } x=1,2,\\dots,100\\\\ 1 &\\quad \\text{si } x>100\n",
        "\t\\end{cases}$$     "
      ]
    },
    {
      "cell_type": "markdown",
      "source": [
        "$\\color{red}{\\text{Ejercicio 2.}}$ Dibuja a la función de distribución acumulada de la variable aleatoria:\n",
        "$$S:\\{1,2,3,4,5,6\\}^{2}\\to \\{2, 3, 4, 5, 6, 7, 8, 9, 10, 11, 12 \\}$$\n",
        "dada por\n",
        "$S(i,j)=i+j.$"
      ],
      "metadata": {
        "id": "UAQy3d5scoHX"
      },
      "id": "UAQy3d5scoHX"
    },
    {
      "cell_type": "code",
      "source": [
        "#Definir el rango de dist uniforme discreta (low,high)\n",
        "low = 1\n",
        "high = 10 #se exluye el 10\n",
        "\n",
        "#Generar 10 muestras de una uniforme discreta\n",
        "samples = randint.rvs(low,high,size=10)\n",
        "print(\"Muestras generadas:\", samples)"
      ],
      "metadata": {
        "id": "2Bh8T3PLgvji",
        "outputId": "2be238e4-279b-4cf2-d4ff-87d91c0a3503",
        "colab": {
          "base_uri": "https://localhost:8080/"
        }
      },
      "id": "2Bh8T3PLgvji",
      "execution_count": 2,
      "outputs": [
        {
          "output_type": "stream",
          "name": "stdout",
          "text": [
            "Muestras generadas: [7 5 7 9 4 7 1 8 3 8]\n"
          ]
        }
      ]
    },
    {
      "cell_type": "code",
      "source": [
        "#Crear valores posibles dentro del rango\n",
        "x=np.arange(low,high)\n",
        "#Obtener funcion de densidad\n",
        "pmf = randint.pmf(x,low,high)\n",
        "\n",
        "#Graficar pmf\n",
        "plt.stem(x,pmf,basefmt=\"\",use_line_collection=True)\n",
        "plt.xlabel(\"Valores\")\n",
        "plt.ylabel(\"Probabilidad\")\n",
        "plt.title(\"Funcion de masa de probabilidad\")\n",
        "plt.grid(True)\n",
        "plt.show()"
      ],
      "metadata": {
        "id": "LzG7EwSuhM0c",
        "outputId": "d51e271b-fbcb-44ca-e9f6-f6989e3de308",
        "colab": {
          "base_uri": "https://localhost:8080/",
          "height": 472
        }
      },
      "id": "LzG7EwSuhM0c",
      "execution_count": 3,
      "outputs": [
        {
          "output_type": "display_data",
          "data": {
            "text/plain": [
              "<Figure size 640x480 with 1 Axes>"
            ],
            "image/png": "[encoded data removed]"
          },
          "metadata": {}
        }
      ]
    },
    {
      "cell_type": "markdown",
      "id": "1a2446e2",
      "metadata": {
        "id": "1a2446e2"
      },
      "source": [
        "## Variable aleatoria Bernoulli con parámetro $p\\in (0,1)$.\n",
        "\n",
        "El modelo probabilístico Bernoulli se aplica a un experimento cuyo espacio muestral está constituido sólo por dos resultados posibles, éxito y fracaso:\n",
        "\n",
        "Se considerará una v.a $X$ sobre el espacio muestral $$\\Omega=\\{\\text{éxito, fracaso}\\}$$\n",
        "de tal forma que\n",
        "* $X(\\{\\text{éxito}\\}) = 1$\n",
        "* $X(\\{\\text{fracaso}\\}) = 0$\n",
        "\n",
        "Las probabilidades asociadas a este modelo son:\n",
        "\n",
        "* $\\mathbb{P}(\\{\\text{éxito}\\}) = p$\n",
        "* $\\mathbb{P}(\\{\\text{fracaso}\\}) = 1-p$\n",
        "\n",
        "donde $0<p<1$.\n",
        "\n",
        "\n",
        "Entonces la función de densidad de masa de probabilidades de $X$ está dada por:\n",
        "\n",
        "$$f_{X}(k)=\\begin{cases}\n",
        "p &\\quad \\text{si } k=1 \\\\\n",
        "1-p &\\quad \\text{si } k=0\n",
        "\\end{cases}$$\n",
        "\n",
        "**Notación:** $X\\sim \\text{Ber}(p)$.\n",
        "\n",
        "Esta variable aleatoria es muy importante. En la practica es usada para modelar situaciones en las cuales hay dos posibles resultados como:\n",
        "* el estado de un teléfono en un momento dado: libre u ocupado.\n",
        "* una persona pueda estar enferma o sana de una determinada enfermedad.\n",
        "* la preferencia de una persona, la cual puede estar a favor o en contra de un candidato determinado.\n",
        "\n",
        "Mediante la combinación de variables aleatorias Bernoulli es posible construir otras variables aleatorias.\n",
        "\n",
        "### Esperanza y Varianza\n",
        "\n",
        "Si $X\\sim \\text{Ber}(p)$, entonces su esperanza es:\n",
        "\\begin{align*}\n",
        "\\mathbb{E}[X] = \\sum_{k=0}^{1}kf_{X}(k) = 1\\cdot p + 0\\cdot (1-p) = p.\n",
        "\\end{align*}\n",
        "\n",
        "Y su varianza se calcula usando,\n",
        "$$\\mathbb{E}[X^{2}] = \\sum_{k=0}^{1}k^{2}f_{X}(k) = 1^{2}\\cdot p + 0^{2}\\cdot (1-p) = p.$$\n",
        "Por lo tanto,\n",
        "$$\\text{Var}(X)=\\mathbb{E}[X^{2}]-(\\mathbb{E}[X])^{2} = p-p^{2} = p(1-p)$$\n",
        "\n"
      ]
    },
    {
      "cell_type": "code",
      "source": [
        "from scipy.stats import bernoulli"
      ],
      "metadata": {
        "id": "_tOtj8qgi2jV"
      },
      "id": "_tOtj8qgi2jV",
      "execution_count": 4,
      "outputs": []
    },
    {
      "cell_type": "code",
      "source": [
        "#Definimos la p de exito\n",
        "p=0.3\n",
        "\n",
        "#Calculo de la funcion de densidad\n",
        "x=[0,1]\n",
        "print(\"Funcion de densidad=\",bernoulli.pmf(x,p))\n",
        "\n",
        "#Grafica de la dunción de densidad\n",
        "plt.bar(x,bernoulli.pmf(x,p),width=0.05)\n",
        "plt.xlabel(\"Valores\")\n",
        "plt.ylabel(\"Probabilidad\")\n",
        "plt.title(\"Distribucion bernoulli con p=0.3\")\n",
        "plt.show()\n",
        "\n",
        "#Calculo de la esperanza\n",
        "print(\"Esperanza =\",bernoulli.mean(p))\n",
        "#Calculo de la varianza\n",
        "print(\"Varianza=\",bernoulli.var(p))"
      ],
      "metadata": {
        "id": "ZP-tdGFdi-wL",
        "outputId": "6c2fbcdf-0c59-4a37-cfba-33cd55b4168c",
        "colab": {
          "base_uri": "https://localhost:8080/",
          "height": 526
        }
      },
      "id": "ZP-tdGFdi-wL",
      "execution_count": 5,
      "outputs": [
        {
          "output_type": "stream",
          "name": "stdout",
          "text": [
            "Funcion de densidad= [0.7 0.3]\n"
          ]
        },
        {
          "output_type": "display_data",
          "data": {
            "text/plain": [
              "<Figure size 640x480 with 1 Axes>"
            ],
            "image/png": "[encoded data removed]"
          },
          "metadata": {}
        },
        {
          "output_type": "stream",
          "name": "stdout",
          "text": [
            "Esperanza = 0.3\n",
            "Varianza= 0.21\n"
          ]
        }
      ]
    },
    {
      "cell_type": "markdown",
      "id": "5effadd4",
      "metadata": {
        "id": "5effadd4"
      },
      "source": [
        "## Variable aleatoria Binomial con parámetros $n$ y $p\\in (0,1)$.\n",
        "\n",
        "Decimos que una v.a $X$ tiene distribución binomial con párametros $n$ y $p$, si su función de densidad de masa de probabilidades está dada por:\n",
        "$$\\begin{equation*}\n",
        "\tf_{X}(k)=\\begin{cases}\n",
        "\t\\binom{n}{k}p^{k}(1-p)^{n-k} &\\quad \\text{si } k=0,1,\\dots,n \\\\\n",
        "\t\\qquad 0 &\\quad \\text{en otro caso}  \n",
        "\t\\end{cases}\n",
        "\\end{equation*}$$\n",
        "donde $n$ es un entero positivo y $0< p< 1$.\n",
        "\n",
        "La esperanza de $X$ es:\n",
        "\\begin{align*}\n",
        "\\mathbb{E}[X]&= \\sum_{k \\mathop = 0}^n k \\binom n k p^k (1-p)^{n - k}\\\\\n",
        "&=\\sum_{k \\mathop = 1}^n k \\binom n k p^k (1-p)^{n - k}\\\\\n",
        "&= \\sum_{k \\mathop = 1}^n n \\binom {n - 1} {k - 1} p^k (1-p)^{n - k}\\\\\n",
        "&= n p \\sum_{k \\mathop = 1}^n \\binom {n - 1} {k - 1} p^{k - 1} (1-p)^{( {n - 1}) - ( {k - 1}) }\\\\\n",
        "&=n p \\sum_{j \\mathop = 0}^m \\binom m j p^j (1-p)^{m - j}\\\\\n",
        "&=np\n",
        "\\end{align*}\n",
        "\n",
        "Ahora,\n",
        "\\begin{align*}\n",
        "\\mathbb{E}[X^2]&= \\sum_{k \\mathop = 0}^n k^2 \\binom n k p^k (1-p)^{n - k}\\\\\n",
        "&=\\sum_{k \\mathop = 0}^n k n \\binom {n - 1} {k - 1} p^k (1-p)^{n - k}\\\\\n",
        "&= n p \\sum_{k \\mathop = 1}^n k \\binom {n - 1} {k - 1} p^{k - 1} (1-p)^{({n - 1}) - ({k - 1}) }\\\\\n",
        "&= n p \\sum_{j \\mathop = 0}^m ({j + 1}) \\binom m j p^j (1-p)^{m - j}\\\\\n",
        "&=n p \\left( {\\sum_{j \\mathop = 0}^m j \\binom m j p^j (1-p)^{m - j} + \\sum_{j \\mathop = 0}^m \\binom m j p^j (1-p)^{m - j} }\\right)\\\\\n",
        "&=n p \\left( {\\sum_{j \\mathop = 0}^m m \\binom {m - 1} {j - 1} p^j (1-p)^{m - j} + \\sum_{j \\mathop = 0}^m \\binom m j p^j (1-p)^{m - j} }\\right)\\\\\n",
        "&= n p \\left( (n - 1) p \\sum_{j \\mathop = 1}^m \\binom {m - 1}{j - 1} p^{j - 1} (1-p)^{( {m - 1}) - ({j - 1}) } + \\sum_{j \\mathop = 0}^m \\binom m j p^j (1-p)^{m - j}\\right) \\\\\n",
        "&= n p \\left( (n - 1) p (p + (1-p))^{m - 1} + (p + (1-p))^m\\right)\\\\\n",
        "&= n p ((n - 1) p + 1)\\\\\n",
        "&= (np)^2 +np(1-p),\n",
        "\\end{align*}\n",
        "\n",
        "por lo que la varianza de $X$ es:\n",
        "$$\\text{Var}(X)=np(1-p).$$\n",
        "\n",
        "\n",
        "**Ejemplo** Una moneda no justa se tira 6 veces, donde la probabilidad de obtener sol es de $0.3$. Sea $X$ el número de veces que cae sol, entonces $X$ tiene una distribución binomial con parámetros $n=6$ y $p=0.3$. Por lo que\n",
        "$$\\begin{align*}\n",
        "\\mathbb{P}(X=2) &= \\binom{6}{2}(0.3)^{2}(0.7)^{4}=0.3241 \\\\\n",
        "\\mathbb{P}(X=3) &= \\binom{6}{3}(0.3)^{3}(0.7)^{3}=0.1852 \\\\\n",
        "\\mathbb{P}(1<X\\le 5) &= \\mathbb{P}(X=2)+\\mathbb{P}(X=3)+\\mathbb{P}(X=4)+\\mathbb{P}(X=5) \\\\\n",
        "\t\t\t&= 0.3241 + 0.1852 + \\binom{6}{4}(0.3)^{4}(0.7)^{2} + \\binom{6}{5}(0.3)^{5}(0.7)^{1} \\\\\n",
        "\t\t\t&= 0.5093 + 0.0595 + 0.0102 = 0.579\n",
        "\\end{align*}$$"
      ]
    },
    {
      "cell_type": "markdown",
      "source": [
        "Note que la probabilidad $$\\mathbb{P}(1<X\\leq 5)=F_{X}(5)-F_{X}(1).$$\n",
        "\n",
        "Usando el tributo .cdf, podemos calcular la probabilidad anterior:\n"
      ],
      "metadata": {
        "id": "hzmozY9DZxIU"
      },
      "id": "hzmozY9DZxIU"
    },
    {
      "cell_type": "code",
      "source": [
        "from scipy.stats import binom"
      ],
      "metadata": {
        "id": "yo09V1uVnYsb"
      },
      "id": "yo09V1uVnYsb",
      "execution_count": 6,
      "outputs": []
    },
    {
      "cell_type": "code",
      "source": [
        "F5= binom.cdf(5,6,0.3) #Calcula p acumulada de que haya 5 o menos exitos en 6 ensayos\n",
        "F1=binom.cdf(1,6,0.3) #Calcula p acumulada de que haya 1 o menos exitos en 6 ensayos\n",
        "F5-F1"
      ],
      "metadata": {
        "id": "ELe-1SNvncxx",
        "outputId": "ad6a58f8-c9eb-4979-bb0f-c672a8ee1f67",
        "colab": {
          "base_uri": "https://localhost:8080/"
        }
      },
      "id": "ELe-1SNvncxx",
      "execution_count": 7,
      "outputs": [
        {
          "output_type": "execute_result",
          "data": {
            "text/plain": [
              "0.5790960000000003"
            ]
          },
          "metadata": {},
          "execution_count": 7
        }
      ]
    },
    {
      "cell_type": "code",
      "source": [
        "#Graficar funcion de densidad de una binomial\n",
        "\n",
        "#Datos iniciales\n",
        "n = 25\n",
        "p = 0.3\n",
        "s = 100000 #Numero de muestras\n",
        "\n",
        "binom_numeros =sps.binom.rvs(n,p,size = s) #genera num aleatorios que siguen una dist binomial\n",
        "\n",
        "plt.figure(figsize = (10,6)) #tamaño de la figura\n",
        "plt.hist(\n",
        "    binom_numeros,\n",
        "    density = True,\n",
        "    bins = len(np.unique(binom_numeros)), #establece el numero de barras del histograma\n",
        "    color = \"blue\",\n",
        "    edgecolor = \"grey\"\n",
        ")\n",
        "plt.xlabel(\"Valores\")\n",
        "plt.ylabel(\"Probabilidad\")\n",
        "plt.title(\"Distribucion binomial\")\n",
        "plt.xticks(np.arange(min(binom_numeros),max(binom_numeros)+1,1))\n",
        "plt.show()"
      ],
      "metadata": {
        "id": "uJyOf1EApPl6",
        "outputId": "4f34777e-9a90-4512-ca06-551cde0d05c2",
        "colab": {
          "base_uri": "https://localhost:8080/",
          "height": 564
        }
      },
      "id": "uJyOf1EApPl6",
      "execution_count": 8,
      "outputs": [
        {
          "output_type": "display_data",
          "data": {
            "text/plain": [
              "<Figure size 1000x600 with 1 Axes>"
            ],
            "image/png": "[encoded data removed]"
          },
          "metadata": {}
        }
      ]
    },
    {
      "cell_type": "markdown",
      "source": [
        "# Variable aleatoria Poisson\n",
        "\n",
        "Es una distribución de probabilidad discreta que  sirve para calcular la probabilidad de que ocurra un determinado número de eventos raros durante un intervalo dado (puede ser de tiempo, longitud, área, etc.\n",
        "\n",
        "Esta variable aleatoria toma los valores sobre el conjunto $\\{0,1,2,\\dots\\}$ y tiene un parámetro $\\lambda>0$, el cual representa el número de veces que se espera que ocurra un evento durante un intervalo dado.\n",
        "\n",
        "La función de masa de probabilidades de una variable aleatoria Poisson, $X$, está dada por:\n",
        "$$f_{X}(k)=\\begin{cases}\n",
        "\te^{-\\lambda}\\frac{\\lambda^{k}}{k!} &\\quad \\text{si } k=0,1,2,\\dots \\\\\n",
        "\t0 &\\quad \\text{en otro caso}  \n",
        "\\end{cases}$$\n",
        "\n",
        "En efecto, es una función de masa de probabilidades debido a que\n",
        "$$\\begin{align*}\n",
        "\\sum_{k=0}^{\\infty}e^{-\\lambda}\\frac{\\lambda^{k}}{k!} &= e^{-\\lambda}\\sum_{k=0}^{\\infty}\\frac{\\lambda^{k}}{k!} \\\\ &= e^{-\\lambda}\\underbrace{\\left(1+\\lambda+\\frac{\\lambda^{2}}{2!}+\\frac{\\lambda^{3}}{3!}+\\cdots\\right)}_{\\text{desarrollo de Taylor de }e^{\\lambda}} \\\\ &= e^{-\\lambda}e^{\\lambda}=1.\n",
        "\\end{align*}$$\n",
        "\n",
        "**Aplicaciones**\n",
        "\n",
        "**Ejemplo:** Supongamos que el número de accidentes que ocurre en un punto tiene una distribución Poisson con parámetro $\\lambda=2$.\n",
        "* ¿Cuál es la probabilidad de que en un día ocurran más de dos accidentes?\n",
        "  $$\\begin{align*}\n",
        "\t\\mathbb{P}(X>2) &= 1-\\mathbb{P}(X\\le 2) \\\\ &=1-\\left[\\mathbb{P}(X=0)+\\mathbb{P}(X=1)+\\mathbb{P}(X=2)\\right] \\\\ &= 1-\\left[\\frac{e^{-2}2^{0}}{0!}+\\frac{e^{-2}2^{1}}{1!}+\\frac{e^{-2}2^{2}}{2!}\\right] \\\\ &= 1-e^{-2}\\left[1+2+2\\right] = 1-5e^{-2} = 0.3233\n",
        "  \\end{align*}$$\n",
        "\n",
        "* ¿Cuál es la probabilidad de que en un día ocurran más de dos accidentes, sabiendo que ocurre por lo menos uno?\n",
        "$$\\begin{align*}\n",
        "\\mathbb{P}(X>2 \\mid X\\ge 1) = \\frac{\\mathbb{P}(X>2 \\cap X\\ge 1)}{\\mathbb{P}(X\\ge 1)} = \\frac{\\mathbb{P}(X>2)}{\\mathbb{P}(X\\ge 1)} = \\frac{1-\\mathbb{P}(X \\leq 2)}{1-\\mathbb{P}(X < 1)}=\\frac{1-5e^{-2}}{1-e^{-2}} = \\frac{0.3233}{0.8646} = 0.3739\n",
        "\\end{align*}$$\n",
        "ya que $\\mathbb{P}(X\\ge 1)=1-\\mathbb{P}(X<1)=1-\\mathbb{P}(X=0)=1-e^{-2}$\n",
        "\n",
        "$\\color{red}{\\text{Ejercicio 3.}}$ Usando el atributo `.cdf` [Poisson](https://docs.scipy.org/doc/scipy/reference/generated/scipy.stats.poisson.html) calcula las probabilidades anteriores.\n",
        "\n",
        "\n"
      ],
      "metadata": {
        "id": "73pLB0Hmg5e4"
      },
      "id": "73pLB0Hmg5e4"
    },
    {
      "cell_type": "code",
      "source": [
        "from scipy.stats import poisson"
      ],
      "metadata": {
        "id": "5jWXMo5lzxOz"
      },
      "id": "5jWXMo5lzxOz",
      "execution_count": 9,
      "outputs": []
    },
    {
      "cell_type": "code",
      "source": [
        "#Probabilidad de que en un dia ocurran mas de dos accidentes\n",
        "F2= poisson.cdf(2,2) #Calcula p acumulada de que haya 5 o menos exitos en 6 ensayos\n",
        "1-F2"
      ],
      "metadata": {
        "colab": {
          "base_uri": "https://localhost:8080/"
        },
        "id": "iwA6pdol9fRz",
        "outputId": "a0b7e7be-3ec3-4efa-f923-47e3712dd5af"
      },
      "id": "iwA6pdol9fRz",
      "execution_count": 10,
      "outputs": [
        {
          "output_type": "execute_result",
          "data": {
            "text/plain": [
              "0.3233235838169366"
            ]
          },
          "metadata": {},
          "execution_count": 10
        }
      ]
    },
    {
      "cell_type": "code",
      "source": [
        "#Probabilidad de que en un dia ocurran más de dos accidentes sabiendo que ocurre al menos uno\n",
        "F0= poisson.cdf(0,2) #Calcula p acumulada de que haya 5 o menos exitos en 6 ensayos\n",
        "1-F0 #Probabilidad que ocurra menos de 1\n",
        "1-F2 #Probabilidad de que ocurra 2 o menos\n",
        "(1-F2)/(1-F0)"
      ],
      "metadata": {
        "colab": {
          "base_uri": "https://localhost:8080/"
        },
        "id": "yYMy0HHW-baM",
        "outputId": "93b4b4ba-5a2b-450a-c034-36935122deb0"
      },
      "id": "yYMy0HHW-baM",
      "execution_count": 11,
      "outputs": [
        {
          "output_type": "execute_result",
          "data": {
            "text/plain": [
              "0.37392942900133747"
            ]
          },
          "metadata": {},
          "execution_count": 11
        }
      ]
    },
    {
      "cell_type": "markdown",
      "source": [
        "## Aproximación de Poisson a la Binomial\n",
        "La distribución de Poisson es una forma límite de la distribución binomial, es decir, es una buena aproximación cuando $n$ es suficientemente grande y $p$ suficientemente pequeña.\n",
        "\n",
        "$\\textbf{Teorema (Poisson).-}$ Sean $S_{n}\\sim Bin(n,p_{n})$ bajo el regimen $$\\lim_{n\\to \\infty}np_{n}=\\lambda>0.$$\n",
        "Consideremos la siguiente sucesión de números reales:\n",
        "$$a_{j}(n,p_n)=\\begin{cases}\\binom{n}{j}(p_n)^{j}(1-p_{n})^{n-j} & j\\leq n\\\\\n",
        "0 & j\\geq n+1\\end{cases}$$\n",
        "\n",
        " Entonces,\n",
        " $$\\lim_{n\\to \\infty}a_{j}(n,p_n)=a_{j}=e^{-\\lambda}\\frac{\\lambda^{j}}{j!} \\ \\ \\forall j\\in \\mathbb{N}.$$\n",
        "\n",
        " El teorema anterior implica que la distribución de Poisson ofrece un modelo probabilístico adecuado para todos aquellos experimentos aleatorios \ten los que las repeticiones son independientes unas de otras y en los \tque sólo hay dos posibles resultados: éxito o fracaso, con probabilidad de \téxito pequeña, y en los que el interés se centra en conocer el número de éxitos obtenidos al realizar el experimento un número suficientemente grande de veces.\n",
        "\n",
        "Empíricamente se ha establecido, que la aproximación se puede aplicar con seguridad si $n\\ge100$, $p\\le 0.01$ y $np \\le20$.\n",
        "\n",
        "**Ejemplo** Supongamos que la probabilidad de que un producto producido por cierta máquina es defectuoso es de $0.1$. ¿Cuál es la probabilidad de que un lote de 10 productos contenga a lo más un producto defectuoso?\n",
        "\n",
        "Sea $X$ el número de productos defectuosos, y sabemos que $X$ tiene una distribución binomial con parámetros $n=10$ y $p=0.1$, entonces\n",
        "\\begin{align*}\n",
        "\\mathbb{P}(X\\le 1) &= \\mathbb{P}(X=0)+\\mathbb{P}(X=1) \\\\ &= \\binom{10}{0}(0.1)^{0}(0.9)^{10-0}+\\binom{10}{1}(0.1)^{1}(0.9)^{10-1} \\\\ &= 0.7361\n",
        "\t\\end{align*}\n",
        "\n",
        "Ahora, con la distribución Poisson, tenemos que $\\lambda=10(0.1)=1$, por lo que\n",
        "$$\\mathbb{P}(X\\le 1) = \\mathbb{P}(X=0)+\\mathbb{P}(X=1) = \\frac{e^{-1}1^{0}}{0!}+\\frac{e^{-1}1^{1}}{1!} = e^{-1}+e^{-1} =0.7358$$"
      ],
      "metadata": {
        "id": "-jPeDj4x_PG2"
      },
      "id": "-jPeDj4x_PG2"
    },
    {
      "cell_type": "code",
      "source": [
        "# Simulación de la aproximación de la Bonomial a la Poisson\n",
        "param=3 # Parametro de la Poisson que queremos aproximar\n",
        "n=1000 # Este es el número de ensayos en la distribución binomial\n",
        "N=5000 # Este es el número de simulaciones que realizaremos.\n",
        "\n",
        "# Genera una muestra de N valores aleatorios de una distribución binomial con parámetros:\n",
        "# n = 1000 (número de ensayos), p = param/n = 3/1000\n",
        "X=npr.binomial(n,param/n,N)\n",
        "\n",
        "# Calcular la frecuencia relativa de los valores simulados\n",
        "counts = np.bincount(X) / float(N)\n",
        "\n",
        "# Crear un array de valores posibles\n",
        "x = np.arange(len(counts))\n",
        "\n",
        "# Calcular la función de masa de probabilidad (FMP) de la distribución Poisson teórica\n",
        "f_x = sps.poisson.pmf(x, param)\n",
        "\n",
        "plt.close()\n",
        "plt.bar(x - 0.5, counts, width=1., label=\"ley empírica\")\n",
        "p2 = plt.stem(x, f_x, \"r\", label=\"ley teórica\")\n",
        "plt.legend()\n",
        "plt.show()"
      ],
      "metadata": {
        "colab": {
          "base_uri": "https://localhost:8080/",
          "height": 430
        },
        "id": "xHx82hpM1fSR",
        "outputId": "b10d5886-e4ab-4c21-9ae0-3d602f9bf436"
      },
      "id": "xHx82hpM1fSR",
      "execution_count": 12,
      "outputs": [
        {
          "output_type": "display_data",
          "data": {
            "text/plain": [
              "<Figure size 640x480 with 1 Axes>"
            ],
            "image/png": "[encoded data removed]"
          },
          "metadata": {}
        }
      ]
    },
    {
      "cell_type": "markdown",
      "source": [
        "## Variable aleatoria Geométrica con parámetro $p\\in (0,1)$.\n",
        "\n",
        "Esta variable aleatoria cuenta el número de fracasos antes del primer éxito en ensayos bernoulli independientes con parámetro $0<p<1$, y su función de masa de probabilidades está dada por:\n",
        "$$f_{X}(k)=\\begin{cases}\n",
        "\tp(1-p)^{k-1} &\\quad \\text{si } k=1,2,\\dots \\\\\n",
        "\t\\qquad 0 &\\quad \\text{en otro caso}  \n",
        "\\end{cases}$$\n",
        "\n",
        "\n",
        "Notación. $X\\sim Geo(p)$\n",
        "\n",
        "La cual es una función de densidad ya que:\n",
        "* $0\\le f_{X}(k)\\le 1$ para toda $x$.\n",
        "* $$\\begin{align*}\n",
        "\t\\sum_{k\\in R_{X}}f_{X}(k) &= \\sum_{k=1}^{\\infty}(1-p)^{k-1}p \\\\\n",
        "\t\t\t&= p\\sum_{y=0}^{\\infty}(1-p)^{y} \\\\\n",
        "\t\t\t&= p\\left(\\frac{1}{1-(1-p)}\\right) = 1\n",
        "\t\t\\end{align*}$$\n",
        "\n",
        "Si por el contrario queremos contar el número de éxitos antes del primer fracaso, tenemos que la función de está dada por:\n",
        "\t$$f_{X}(k)=\\begin{cases}\n",
        "\t\tp^{k}(1-p) &\\quad \\text{si } k=0,1,2,\\dots \\\\\n",
        "\t\t\\qquad 0 &\\quad \\text{en otro caso}  \n",
        "\t\\end{cases}$$\n",
        "\n",
        "Para calcular la Esperanza y Varianza de $X$, necesitamos del siguiente lema:\n",
        "\n",
        "**Lema 1** Sea $x$ un número real tal que $│x│<1$. Entonces,\n",
        "$$\\sum_{k=1}^{\\infty}kx^{k-1}=\\frac{1}{(1-x)^2}.$$\n",
        "**Demostración.** Se tiene que\n",
        "$$\\frac{d}{dx}\\sum_{k=1}^{\\infty}x^{k}=\\sum_{k=1}^{\\infty}kx^{k-1}.$$\n",
        "Además,\n",
        "$$\\sum_{k=1}^{\\infty}x^{k}=\\frac{x}{1-x}.$$\n",
        "Por lo tanto,\n",
        "$$\\frac{d}{dx}\\frac{x}{1-x}=\\frac{1}{(1-x)^2}.$$\n",
        "\n",
        "Como corolario,\n",
        "$$\\sum_{k=1}^{\\infty}k(k+1)x^{k-1}=\\frac{2}{(1-x)^2}.$$\n",
        "En efecto,\n",
        "$$\\frac{d}{dx}\\sum_{k=1}^{\\infty}(k+1)x^{k}=\\sum_{k=1}^{\\infty}k(k+1)x^{k-1}.$$\n",
        "Ahora,\n",
        "$$\\sum_{k=1}^{\\infty}(k+1)x^{k}=\\sum_{m=2}^{\\infty}mx^{m-1}=\\frac{1}{(1-x)^2}-1.$$\n",
        "\n",
        "Usando estos resultados, la esperanza de $X$ es:\n",
        "\\begin{align*}\n",
        "\\mathbb{E}[X]&=  \\sum_{x \\mathop \\ge 1} k p(1-p)^{k - 1}\\\\\n",
        "&= p \\frac 1 {(1 - (1-p))^2}\\\\\n",
        "&=  \\frac p {p^2}\\\\\n",
        "&=\\frac{1}{p}\n",
        "\\end{align*}\n",
        "\n",
        "Calculamos,\n",
        "\\begin{align*}\n",
        "\\mathbb{E}[X^2]&= \\sum_{k=1}^{\\infty} x^{2}p(1-p)^{k-1}\\\\\n",
        "&=\\sum_{k=1}^{\\infty}k(k+1)(1-p)^{k-1}p-\\sum_{k=1}^{\\infty}p(1-p)^{k-1}\n",
        "\\end{align*}\n",
        "\n",
        "Por el Lema 1,\n",
        "$$\\mathbb{E}[X^2]=p\\frac{2}{p^3}-\\frac{1}{p}=\\frac{2}{p^2}-\\frac{1}{p}.$$\n",
        "\n",
        "Por lo tanto,\n",
        "$$\\text{Var}(X)=\\frac{2}{p^2}-\\frac{1}{p}-\\frac{1}{p^2}=\\frac{1-p}{p^2}.$$"
      ],
      "metadata": {
        "id": "4mz4tCaWg84X"
      },
      "id": "4mz4tCaWg84X"
    },
    {
      "cell_type": "code",
      "source": [
        "# Simulación de una distribución geométrica.\n",
        "p = 0.4  # probabilidad de éxito\n",
        "s = 100000  # tamaño de muestra (se generarán 100,000 v.a. geométricas)\n",
        "\n",
        "random.seed(3)\n",
        "geom_numeros = sps.geom.rvs(p, size=s) # genera variables aleatorias geométricas\n",
        "\n",
        "#Creo un histograma\n",
        "plt.figure(figsize=(10, 5))\n",
        "plt.hist(\n",
        "    geom_numeros,\n",
        "    density=True,\n",
        "    bins=len(np.unique(geom_numeros)),\n",
        "    color=\"#26d526\",\n",
        "    edgecolor=\"grey\",\n",
        ")\n",
        "plt.xlabel(\" \")\n",
        "plt.ylabel(\"Probabilidad\")\n",
        "plt.title(\"Distribución Geométrica \\npara p=0.4\")\n",
        "plt.xticks(\n",
        "    np.arange(min(geom_numeros), max(geom_numeros) + 1, 1.0)\n",
        ")\n",
        "\n",
        "plt.show()"
      ],
      "metadata": {
        "colab": {
          "base_uri": "https://localhost:8080/",
          "height": 508
        },
        "id": "VOsEzFML15y1",
        "outputId": "17231851-45cc-48bd-ec70-24de97f9e450"
      },
      "id": "VOsEzFML15y1",
      "execution_count": 13,
      "outputs": [
        {
          "output_type": "display_data",
          "data": {
            "text/plain": [
              "<Figure size 1000x500 with 1 Axes>"
            ],
            "image/png": "[encoded data removed]"
          },
          "metadata": {}
        }
      ]
    },
    {
      "cell_type": "markdown",
      "source": [
        "**Ejemplo.** Cada una de $12$ personas lanza una moneda indefinidamente, deteniendo sus lanzamientos en el momento en que se obtiene por primera vez águila. ¿Cuál es la probabilidad de que por lo menos $10$ de ellas realicen menos de $4$ lanzamientos?\n",
        "\n",
        "Sea $X$ el número de lanzamientos que se realizan antes de obtener por primera vez águila al lanzar una moneda indefinidamente y sea $Y$ el número de personas que realizan menos de $4$ lanzamientos. Así, $Y\\sim \\text{Binom}\\left(12, p=\\mathbb{P}(X<3) \\right)$, en donde $X\\sim \\text{Geo}(1/2)$. Así,\n",
        "- $p=\\frac{7}{8}$.\n",
        "- $\\mathbb{P}(Y\\geq 10)=0.818$"
      ],
      "metadata": {
        "id": "MBHSx-yOiL82"
      },
      "id": "MBHSx-yOiL82"
    },
    {
      "cell_type": "code",
      "source": [
        "# Calcula la función de distribución acumulada (CDF) de la distribución geométrica\n",
        "# para el valor k = 3 y la probabilidad de éxito p = 0.5.\n",
        "p = sps.geom.cdf(3, 0.5)\n",
        "print(p)\n",
        "#La probabilidad buscada es:\n",
        "P = 1-sps.binom.cdf(9, 12, p) # Cálculo de la probabilidad complementaria usando una distribución binomial\n",
        "print(P)"
      ],
      "metadata": {
        "colab": {
          "base_uri": "https://localhost:8080/"
        },
        "id": "fgEGYltY2BXt",
        "outputId": "f27e0982-db78-48e3-a7b4-91096e010678"
      },
      "id": "fgEGYltY2BXt",
      "execution_count": 14,
      "outputs": [
        {
          "output_type": "stream",
          "name": "stdout",
          "text": [
            "0.875\n",
            "0.8180006196344038\n"
          ]
        }
      ]
    },
    {
      "cell_type": "markdown",
      "source": [
        "## Variable aleatoria Binomial Negativa con parámetros $r\\geq 1$ y $p\\in (0,1)$.\n",
        "\n",
        "Supongamos que se realizan ensayos independientes, cada uno con probabilidad $0<p<1$ de ser un éxito, hasta obtener un total de $r$ éxitos acumulados. Sea $X$ el número de ensayos que se requieren, entonces su función de masa de probabilidades está dada por:\n",
        "$$f_{X}(k)=\\begin{cases}\n",
        "\t\\binom{n-1}{r-1}p^{r}(1-p)^{n-r} &\\quad \\text{si } n=r,r+1,\\dots \\\\\n",
        "\t\\qquad 0 &\\quad \\text{en otro caso}  \n",
        "\\end{cases}$$\n",
        "\n",
        "\n",
        "\n",
        "Notación. $X\\sim \\text{BN}(r,p)$.\n",
        "\n",
        "Se tiene que\n",
        "$$\\mathbb{E}[X]=\\frac{r}{p}$$\n",
        "y\n",
        "$$\\text{Var}[X]=\\frac{r(1-p)}{p^2}.$$\n",
        "\n",
        "\n",
        "\n"
      ],
      "metadata": {
        "id": "I39XPyC-nW6W"
      },
      "id": "I39XPyC-nW6W"
    },
    {
      "cell_type": "code",
      "source": [
        "# Simulación de una distribución binomial negativa.\n",
        "n = 10  # numbero de ensayos Bernoulli\n",
        "p = 0.4  # probabilidad de éxito\n",
        "s = 100000  # tamaño de muestra\n",
        "\n",
        "random.seed(3)\n",
        "geom_numeros = sps.nbinom.rvs(n,p, size=s) # genera v.a. Binomial Negativas\n",
        "\n",
        "#Creo un histograma\n",
        "plt.figure(figsize=(10, 5))\n",
        "plt.hist(\n",
        "    geom_numeros,\n",
        "    density=True,\n",
        "    bins=len(np.unique(geom_numeros)),\n",
        "    color=\"#FF00FF\",\n",
        "    edgecolor=\"grey\",\n",
        ")\n",
        "plt.xlabel(\" \")\n",
        "plt.ylabel(\"Probabilidad\")\n",
        "plt.title(\"Distribución BN \\npara r=10 y p=0.4\")\n",
        "plt.xticks(\n",
        "    np.arange(min(geom_numeros), max(geom_numeros) + 1, 2.0)\n",
        ")\n",
        "\n",
        "plt.show()"
      ],
      "metadata": {
        "colab": {
          "base_uri": "https://localhost:8080/",
          "height": 508
        },
        "id": "uCl01X1I2PRd",
        "outputId": "f1f479d2-876f-44a3-ccc5-30dd6ec17327"
      },
      "id": "uCl01X1I2PRd",
      "execution_count": 15,
      "outputs": [
        {
          "output_type": "display_data",
          "data": {
            "text/plain": [
              "<Figure size 1000x500 with 1 Axes>"
            ],
            "image/png": "[encoded data removed]"
          },
          "metadata": {}
        }
      ]
    },
    {
      "cell_type": "markdown",
      "source": [
        "$\\color{red}{\\text{Ejercicio 4.}}$ Un examen de Estadística consta de 20 preguntas tipo test y se conoce de experiencias\n",
        "anteriores que un alumno tiene probabilidad 0.7 de contestar bien cada pregunta. Obtener:\n",
        "\n",
        "a) La probabilidad de que la primera pregunta que contesta bien sea la cuarta.\n",
        "\n",
        "b) Sabiendo que para aprobar el examen es necesario contestar bien a 10 preguntas, ¿cuál es la probabilidad de que apruebe al contestar la pregunta duodécima?"
      ],
      "metadata": {
        "id": "FCIOwnk62QJD"
      },
      "id": "FCIOwnk62QJD"
    },
    {
      "cell_type": "code",
      "source": [
        "from scipy.stats import geom\n",
        "from scipy.stats import nbinom"
      ],
      "metadata": {
        "id": "EHGA0ATb_Zg0"
      },
      "id": "EHGA0ATb_Zg0",
      "execution_count": 16,
      "outputs": []
    },
    {
      "cell_type": "code",
      "source": [
        "#a) P(X=4) X numero de ensayo donde se da el primer exito\n",
        "f4 = geom.pmf(4,0.7)\n",
        "f4"
      ],
      "metadata": {
        "colab": {
          "base_uri": "https://localhost:8080/"
        },
        "id": "zHl1FYmBB6Or",
        "outputId": "2d447bef-40ea-4925-804a-6cca1a741878"
      },
      "id": "zHl1FYmBB6Or",
      "execution_count": 17,
      "outputs": [
        {
          "output_type": "execute_result",
          "data": {
            "text/plain": [
              "0.018900000000000007"
            ]
          },
          "metadata": {},
          "execution_count": 17
        }
      ]
    },
    {
      "cell_type": "code",
      "source": [
        "#b) P(X=2) x numero de fracasos antes del 10mo exito\n",
        "#k numero de fracasos 2\n",
        "#r numero de exitos 10\n",
        "#p probabilidad de exito 0.7\n",
        "f2 =nbinom.pmf(2,10,0.7)\n",
        "f2"
      ],
      "metadata": {
        "colab": {
          "base_uri": "https://localhost:8080/"
        },
        "id": "zV7ApYQBDJ1Q",
        "outputId": "721d19da-1992-4dd9-df7f-5ac732f9d4b6"
      },
      "id": "zV7ApYQBDJ1Q",
      "execution_count": 18,
      "outputs": [
        {
          "output_type": "execute_result",
          "data": {
            "text/plain": [
              "0.13982524825499987"
            ]
          },
          "metadata": {},
          "execution_count": 18
        }
      ]
    },
    {
      "cell_type": "markdown",
      "source": [
        "$\\color{red}{\\text{Ejercicio 5.}}$ Investigue sobre el problema de la caja de cerillos de Banach y explique su solución.\n",
        "\n",
        "\n",
        "---\n",
        "\n",
        "\n",
        "El problema de la caja de cerillos de Banach puede ser formulado de la siguiente manera:\n",
        "\n",
        "**Enunciado:** Imagina que tienes una caja con $N$ cerillos y que cada cerillo puede ser extraído al azar. Después de retirar un cerillo, se repone a la caja y el proceso se repite. Si deseas calcular la probabilidad de que al menos uno de los cerillos se haya extraído un número específico de veces, ¿cuál es la probabilidad de que, después de una cierta cantidad de extracciones, todos los cerillos hayan sido extraídos al menos una vez?\n",
        "\n",
        "Este problema se relaciona con la distribución uniforme y la probabilidad de cobertura completa de un conjunto. Se estudia cómo el número de extracciones afecta la probabilidad de que todos los cerillos hayan sido extraídos al menos una vez.\n",
        "\n",
        "**Modelo de Extracción:**\n",
        "\n",
        "Supón que extraes cerillos de una caja con reposición. Cada extracción es un evento independiente y cada cerillo tiene una probabilidad igual de ser extraído en cada evento.\n",
        "\n",
        "**Cálculo de la Probabilidad:**\n",
        "\n",
        "La probabilidad de que todos los cerillos se hayan extraído al menos una vez después de $n$ extracciones se puede aproximar utilizando conceptos de combinatoria y probabilidades.\n",
        "\n",
        "**Solución Aproximada**\n",
        "\n",
        "La probabilidad de que todos los cerillos sean extraídos al menos una vez después de $n$ extracciones se puede aproximar utilizando la fórmula para el problema de los \"códigos de cobertura completa\" o el problema de los \"pajes en el bar\".\n",
        "Para $N$ cerillos y $n$ extracciones, la probabilidad de que todos los cerillos hayan sido extraídos al menos una vez se puede aproximar usando la fórmula:\n",
        "$$P(N,n) = 1 - \\frac{1}{N^n}\\sum^{N-1}_{k=0}{(-1)}^k\\binom{N}{k}{(N-k)}^n$$\n",
        "Esta fórmula se basa en el principio de inclusión-exclusión y proporciona una aproximación para la probabilidad de cobertura completa."
      ],
      "metadata": {
        "id": "-eawNbW0EMgo"
      },
      "id": "-eawNbW0EMgo"
    },
    {
      "cell_type": "markdown",
      "source": [
        "## Variable aleatoria Hipergeométrica con parámetros $n,N,m$.\n",
        "\n",
        "Supongamos que se elige, sin reemplazo, una muestra de tamaño $n$ de una urna que contiene $N$ bolas, de las cuales $m$ son rojas y $N-m$ son verdes. Sea $X$ el número de ebolas rojas seleccionadas, entonces su función de masa de probabilidades está dada por:\n",
        "$$f_{X}(k)=\n",
        "\t\\frac{\\binom{m}{i}\\binom{N-m}{n-i}}{\\binom{N}{n}} \\quad \\text{si } i=0,1,\\dots, n  \n",
        "$$\n",
        "\n",
        "\n",
        "\n",
        "Notación. $X\\sim \\text{Hiper}(n,N,m)$.\n",
        "\n",
        "Se tiene que\n",
        "$$\\mathbb{E}[X]=\\frac{nm}{N}$$\n",
        "y\n",
        "$$\\text{Var}[X]=\\frac{nm}{N}\\left[\\frac{(n-1)(m-1)}{N-1}+1-\\frac{nm}{N} \\right].$$\n",
        "\n",
        "**Nota.** Si $i\\leq n$ y $X\\sim \\text{Hiper}(n,N,m)$, cuando $p=\\frac{m}{N}$ y $m,N$ son muy grandes con respecto a $n$ e $i$:\n",
        "$$\\mathbb{P}(X=i)\\approx \\binom{n}{i}p^{i}(1-p)^{n-i}.$$"
      ],
      "metadata": {
        "id": "8veKIbyeoJNy"
      },
      "id": "8veKIbyeoJNy"
    },
    {
      "cell_type": "code",
      "source": [
        "# Simulación de una distribución hipergeometrica.\n",
        "n = 40  # tamaño total de la población\n",
        "m = 32  # número de éxitos en la población\n",
        "N = 7   # número de muestras (tamaño de la muestra)\n",
        "s = 100 # número de simulaciones (tamaño de la muestra generada)\n",
        "\n",
        "\n",
        "random.seed(3)\n",
        "# Generamos variables aleatorias hipergeométricas\n",
        "geom_numeros = sps.hypergeom.rvs(n, m, N, size=s)\n",
        "\n",
        "#Creo un histograma\n",
        "plt.figure(figsize=(10, 5))\n",
        "plt.hist(\n",
        "    geom_numeros,\n",
        "    density=True,\n",
        "    bins=len(np.unique(geom_numeros)),\n",
        "    color=\"#5865F2\",\n",
        "    edgecolor=\"grey\",\n",
        ")\n",
        "plt.xlabel(\" \")\n",
        "plt.ylabel(\"Probabilidad\")\n",
        "plt.title(\"Distribución HG \\npara [40,7,32]\")\n",
        "plt.xticks(\n",
        "    np.arange(min(geom_numeros), max(geom_numeros) + 1, 2.0)\n",
        ")\n",
        "plt.show()"
      ],
      "metadata": {
        "colab": {
          "base_uri": "https://localhost:8080/",
          "height": 508
        },
        "id": "Q-H9R96923PD",
        "outputId": "02219e2e-8327-4617-9318-51861776ed10"
      },
      "id": "Q-H9R96923PD",
      "execution_count": 19,
      "outputs": [
        {
          "output_type": "display_data",
          "data": {
            "text/plain": [
              "<Figure size 1000x500 with 1 Axes>"
            ],
            "image/png": "[encoded data removed]"
          },
          "metadata": {}
        }
      ]
    },
    {
      "cell_type": "markdown",
      "source": [
        "$\\color{red}{\\text{Ejercicio 6.}}$ Una compañía petrolera realiza un estudio geológico que indica que un pozo petrolero exploratorio debería tener un 20% de posibilidades de encontrar petróleo.\n",
        "\n",
        "- ¿Cuál es la probabilidad de que el primer pozo se produzca en el tercer pozo perforado?\n",
        "\n",
        "- ¿Cuál es la probabilidad de que el tercer pozo se produzca en el séptimo pozo perforado?\n",
        "\n",
        "- ¿Cuál es la media y la varianza del número de pozos que se deben perforar si la compañía petrolera quiere establecer tres pozos productores?"
      ],
      "metadata": {
        "id": "V1rp8sMJpwiz"
      },
      "id": "V1rp8sMJpwiz"
    },
    {
      "cell_type": "code",
      "source": [
        "#a) P(X=3) X numero de ensayo donde ocurre el primer exito\n",
        "f3 = geom.pmf(3,0.2)\n",
        "f3"
      ],
      "metadata": {
        "colab": {
          "base_uri": "https://localhost:8080/"
        },
        "id": "YzaJIv9hG6gv",
        "outputId": "9d2ca963-c171-4a5c-8165-0736b2d2008b"
      },
      "id": "YzaJIv9hG6gv",
      "execution_count": 20,
      "outputs": [
        {
          "output_type": "execute_result",
          "data": {
            "text/plain": [
              "0.12800000000000003"
            ]
          },
          "metadata": {},
          "execution_count": 20
        }
      ]
    },
    {
      "cell_type": "code",
      "source": [
        "#b) P(X=4) x numero de fracasos antes del 3er exito\n",
        "f4 = nbinom.pmf(4,3,0.2)\n",
        "f4"
      ],
      "metadata": {
        "colab": {
          "base_uri": "https://localhost:8080/"
        },
        "id": "bp5OFvwTHBzZ",
        "outputId": "e41ca76f-6fcb-424d-e34a-e7892f77c90c"
      },
      "id": "bp5OFvwTHBzZ",
      "execution_count": 21,
      "outputs": [
        {
          "output_type": "execute_result",
          "data": {
            "text/plain": [
              "0.04915200000000004"
            ]
          },
          "metadata": {},
          "execution_count": 21
        }
      ]
    },
    {
      "cell_type": "code",
      "source": [
        "#Media\n",
        "# parametros r,p\n",
        "nbinom.mean(3,0.2)"
      ],
      "metadata": {
        "colab": {
          "base_uri": "https://localhost:8080/"
        },
        "id": "sM3VSy1qQWTh",
        "outputId": "ee06bbd3-f802-4c17-d031-b7de61f676eb"
      },
      "id": "sM3VSy1qQWTh",
      "execution_count": 22,
      "outputs": [
        {
          "output_type": "execute_result",
          "data": {
            "text/plain": [
              "12.000000000000002"
            ]
          },
          "metadata": {},
          "execution_count": 22
        }
      ]
    },
    {
      "cell_type": "code",
      "source": [
        "#Varianza\n",
        "nbinom.var(3,0.2)"
      ],
      "metadata": {
        "colab": {
          "base_uri": "https://localhost:8080/"
        },
        "id": "RZLqYyZIQ45T",
        "outputId": "3bbff6f7-0f6c-4d7d-c215-47070efc082e"
      },
      "id": "RZLqYyZIQ45T",
      "execution_count": 24,
      "outputs": [
        {
          "output_type": "execute_result",
          "data": {
            "text/plain": [
              "60.0"
            ]
          },
          "metadata": {},
          "execution_count": 24
        }
      ]
    }
  ],
  "metadata": {
    "colab": {
      "provenance": []
    },
    "kernelspec": {
      "display_name": "Python 3 (ipykernel)",
      "language": "python",
      "name": "python3"
    },
    "language_info": {
      "codemirror_mode": {
        "name": "ipython",
        "version": 3
      },
      "file_extension": ".py",
      "mimetype": "text/x-python",
      "name": "python",
      "nbconvert_exporter": "python",
      "pygments_lexer": "ipython3",
      "version": "3.9.13"
    }
  },
  "nbformat": 4,
  "nbformat_minor": 5
}