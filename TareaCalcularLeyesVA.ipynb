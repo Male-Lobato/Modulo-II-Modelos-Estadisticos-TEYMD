{
  "nbformat": 4,
  "nbformat_minor": 0,
  "metadata": {
    "colab": {
      "provenance": []
    },
    "kernelspec": {
      "name": "python3",
      "display_name": "Python 3"
    },
    "language_info": {
      "name": "python"
    }
  },
  "cells": [
    {
      "cell_type": "markdown",
      "source": [
        "#TAREA\n",
        "\n",
        "\n",
        "\n",
        "1.   Documenta tu colab\n",
        "2.   Calcular la ley de las siguientes v.a\n",
        "      * La diferencia de las caras es mayor a 1.\n",
        "      * La suma de las caras es par.\n",
        "3.   Verifica en cada caso que\n",
        "$$\\sum_{k\\in R_{X}}\\mathbb{P}(X=k) = 1$$\n",
        "4.   Grafica la función de dist de la v.a S (la suma de los resultados es n)\n",
        "5. Sube tu notebook a Github\n"
      ],
      "metadata": {
        "id": "t58Qpmrlv29V"
      }
    },
    {
      "cell_type": "code",
      "source": [
        "from itertools import product #Para producto cartesiano\n",
        "from fractions import Fraction\n",
        "from collections import defaultdict\n",
        "import pandas as pd"
      ],
      "metadata": {
        "id": "nTUFHZOPvRWm"
      },
      "execution_count": 16,
      "outputs": []
    },
    {
      "cell_type": "code",
      "source": [
        "def P(A,Omega): #Fucion para expresar en fraccion la probabilidad\n",
        "  P = Fraction(len(A),len(Omega))\n",
        "  return P"
      ],
      "metadata": {
        "id": "VYpScDU9xlup"
      },
      "execution_count": null,
      "outputs": []
    },
    {
      "cell_type": "code",
      "source": [
        "#Creamos nuestro espacio muestral Omega\n",
        "D = [i for i in range(1,7)]\n",
        "Omega = set (product(D,repeat=2))\n",
        "Omega"
      ],
      "metadata": {
        "colab": {
          "base_uri": "https://localhost:8080/"
        },
        "id": "-7WD9abVvlEa",
        "outputId": "1890fdce-3e98-4240-bb73-76370a520536"
      },
      "execution_count": 5,
      "outputs": [
        {
          "output_type": "execute_result",
          "data": {
            "text/plain": [
              "{(1, 1),\n",
              " (1, 2),\n",
              " (1, 3),\n",
              " (1, 4),\n",
              " (1, 5),\n",
              " (1, 6),\n",
              " (2, 1),\n",
              " (2, 2),\n",
              " (2, 3),\n",
              " (2, 4),\n",
              " (2, 5),\n",
              " (2, 6),\n",
              " (3, 1),\n",
              " (3, 2),\n",
              " (3, 3),\n",
              " (3, 4),\n",
              " (3, 5),\n",
              " (3, 6),\n",
              " (4, 1),\n",
              " (4, 2),\n",
              " (4, 3),\n",
              " (4, 4),\n",
              " (4, 5),\n",
              " (4, 6),\n",
              " (5, 1),\n",
              " (5, 2),\n",
              " (5, 3),\n",
              " (5, 4),\n",
              " (5, 5),\n",
              " (5, 6),\n",
              " (6, 1),\n",
              " (6, 2),\n",
              " (6, 3),\n",
              " (6, 4),\n",
              " (6, 5),\n",
              " (6, 6)}"
            ]
          },
          "metadata": {},
          "execution_count": 5
        }
      ]
    },
    {
      "cell_type": "markdown",
      "source": [
        "### La diferencia de las caras es mayor a 1"
      ],
      "metadata": {
        "id": "N45xDTJWwaj7"
      }
    },
    {
      "cell_type": "code",
      "source": [
        "S1 = {(i,j): abs(i-j) for i,j in Omega if abs(i-j)>1}\n",
        "S1"
      ],
      "metadata": {
        "colab": {
          "base_uri": "https://localhost:8080/"
        },
        "id": "fQVmsKZTweF-",
        "outputId": "2ba84d1a-4b75-4f84-e8d5-245fddad74ed"
      },
      "execution_count": 13,
      "outputs": [
        {
          "output_type": "execute_result",
          "data": {
            "text/plain": [
              "{(3, 1): 2,\n",
              " (4, 6): 2,\n",
              " (5, 1): 4,\n",
              " (1, 6): 5,\n",
              " (2, 5): 3,\n",
              " (1, 3): 2,\n",
              " (6, 2): 4,\n",
              " (4, 2): 2,\n",
              " (3, 6): 3,\n",
              " (5, 3): 2,\n",
              " (2, 4): 2,\n",
              " (1, 5): 4,\n",
              " (6, 1): 5,\n",
              " (6, 4): 2,\n",
              " (4, 1): 3,\n",
              " (3, 5): 2,\n",
              " (5, 2): 3,\n",
              " (1, 4): 3,\n",
              " (2, 6): 4,\n",
              " (6, 3): 3}"
            ]
          },
          "metadata": {},
          "execution_count": 13
        }
      ]
    },
    {
      "cell_type": "code",
      "source": [
        "dS1 = defaultdict(set)\n",
        "\n",
        "for i,j in S1.items():\n",
        "  dS1[j].add(i)\n"
      ],
      "metadata": {
        "id": "DkD5X5sqxsp6"
      },
      "execution_count": 14,
      "outputs": []
    },
    {
      "cell_type": "code",
      "source": [
        "dS1"
      ],
      "metadata": {
        "colab": {
          "base_uri": "https://localhost:8080/"
        },
        "id": "Y8IeWrOHx6OQ",
        "outputId": "2fbfab1d-3753-4c6f-e764-a281d0e68670"
      },
      "execution_count": 15,
      "outputs": [
        {
          "output_type": "execute_result",
          "data": {
            "text/plain": [
              "defaultdict(set,\n",
              "            {2: {(1, 3),\n",
              "              (2, 4),\n",
              "              (3, 1),\n",
              "              (3, 5),\n",
              "              (4, 2),\n",
              "              (4, 6),\n",
              "              (5, 3),\n",
              "              (6, 4)},\n",
              "             4: {(1, 5), (2, 6), (5, 1), (6, 2)},\n",
              "             5: {(1, 6), (6, 1)},\n",
              "             3: {(1, 4), (2, 5), (3, 6), (4, 1), (5, 2), (6, 3)}})"
            ]
          },
          "metadata": {},
          "execution_count": 15
        }
      ]
    },
    {
      "cell_type": "code",
      "source": [
        "fS1 = {k : P(A,S1) for k,A in dS1.items() }\n",
        "\n",
        "fS1 = pd.Series(fS1)\n",
        "fS1 = fS1.sort_index() #ordena\n",
        "fS1"
      ],
      "metadata": {
        "colab": {
          "base_uri": "https://localhost:8080/",
          "height": 210
        },
        "id": "zY-BbCLOzO8h",
        "outputId": "8181eb2c-10dd-49de-ac2e-30a20e0acd75"
      },
      "execution_count": 23,
      "outputs": [
        {
          "output_type": "execute_result",
          "data": {
            "text/plain": [
              "2     2/5\n",
              "3    3/10\n",
              "4     1/5\n",
              "5    1/10\n",
              "dtype: object"
            ],
            "text/html": [
              "<div>\n",
              "<style scoped>\n",
              "    .dataframe tbody tr th:only-of-type {\n",
              "        vertical-align: middle;\n",
              "    }\n",
              "\n",
              "    .dataframe tbody tr th {\n",
              "        vertical-align: top;\n",
              "    }\n",
              "\n",
              "    .dataframe thead th {\n",
              "        text-align: right;\n",
              "    }\n",
              "</style>\n",
              "<table border=\"1\" class=\"dataframe\">\n",
              "  <thead>\n",
              "    <tr style=\"text-align: right;\">\n",
              "      <th></th>\n",
              "      <th>0</th>\n",
              "    </tr>\n",
              "  </thead>\n",
              "  <tbody>\n",
              "    <tr>\n",
              "      <th>2</th>\n",
              "      <td>2/5</td>\n",
              "    </tr>\n",
              "    <tr>\n",
              "      <th>3</th>\n",
              "      <td>3/10</td>\n",
              "    </tr>\n",
              "    <tr>\n",
              "      <th>4</th>\n",
              "      <td>1/5</td>\n",
              "    </tr>\n",
              "    <tr>\n",
              "      <th>5</th>\n",
              "      <td>1/10</td>\n",
              "    </tr>\n",
              "  </tbody>\n",
              "</table>\n",
              "</div><br><label><b>dtype:</b> object</label>"
            ]
          },
          "metadata": {},
          "execution_count": 23
        }
      ]
    },
    {
      "cell_type": "code",
      "source": [
        "P1 = sum(fS1.values)\n",
        "P1"
      ],
      "metadata": {
        "colab": {
          "base_uri": "https://localhost:8080/"
        },
        "id": "OWFS-_JN0tGk",
        "outputId": "de665c5d-915b-49ac-c0e3-2959e39c69f2"
      },
      "execution_count": 24,
      "outputs": [
        {
          "output_type": "execute_result",
          "data": {
            "text/plain": [
              "Fraction(1, 1)"
            ]
          },
          "metadata": {},
          "execution_count": 24
        }
      ]
    },
    {
      "cell_type": "markdown",
      "source": [
        "###La suma de las caras es par"
      ],
      "metadata": {
        "id": "iqUDw-XA12BB"
      }
    },
    {
      "cell_type": "code",
      "source": [
        "S2 = {(i,j): i+j for i,j in Omega if ((i+j)%2)==0}\n",
        "S2"
      ],
      "metadata": {
        "colab": {
          "base_uri": "https://localhost:8080/"
        },
        "id": "WyVxW63K2oBx",
        "outputId": "69d75351-4511-42ab-ae61-89d7d937325f"
      },
      "execution_count": 25,
      "outputs": [
        {
          "output_type": "execute_result",
          "data": {
            "text/plain": [
              "{(3, 1): 4,\n",
              " (4, 6): 10,\n",
              " (5, 1): 6,\n",
              " (2, 2): 4,\n",
              " (1, 3): 4,\n",
              " (6, 2): 8,\n",
              " (4, 2): 6,\n",
              " (3, 3): 6,\n",
              " (5, 3): 8,\n",
              " (2, 4): 6,\n",
              " (1, 5): 6,\n",
              " (6, 4): 10,\n",
              " (3, 5): 8,\n",
              " (4, 4): 8,\n",
              " (5, 5): 10,\n",
              " (1, 1): 2,\n",
              " (2, 6): 8,\n",
              " (6, 6): 12}"
            ]
          },
          "metadata": {},
          "execution_count": 25
        }
      ]
    },
    {
      "cell_type": "code",
      "source": [
        "dS2 = defaultdict(set)\n",
        "\n",
        "for i,j in S2.items():\n",
        "  dS2[j].add(i)"
      ],
      "metadata": {
        "id": "erc4QbB74ULT"
      },
      "execution_count": 26,
      "outputs": []
    },
    {
      "cell_type": "code",
      "source": [
        "dS2"
      ],
      "metadata": {
        "colab": {
          "base_uri": "https://localhost:8080/"
        },
        "id": "dkigcX294ecE",
        "outputId": "15585bfc-772a-4821-e730-8e57db612c0a"
      },
      "execution_count": 27,
      "outputs": [
        {
          "output_type": "execute_result",
          "data": {
            "text/plain": [
              "defaultdict(set,\n",
              "            {4: {(1, 3), (2, 2), (3, 1)},\n",
              "             10: {(4, 6), (5, 5), (6, 4)},\n",
              "             6: {(1, 5), (2, 4), (3, 3), (4, 2), (5, 1)},\n",
              "             8: {(2, 6), (3, 5), (4, 4), (5, 3), (6, 2)},\n",
              "             2: {(1, 1)},\n",
              "             12: {(6, 6)}})"
            ]
          },
          "metadata": {},
          "execution_count": 27
        }
      ]
    },
    {
      "cell_type": "code",
      "source": [
        "fS2 = {k : P(A,S2) for k,A in dS2.items() }\n",
        "\n",
        "fS2 = pd.Series(fS2)\n",
        "fS2 = fS2.sort_index() #ordena\n",
        "fS2"
      ],
      "metadata": {
        "colab": {
          "base_uri": "https://localhost:8080/",
          "height": 272
        },
        "id": "6PvgUcIp4bLZ",
        "outputId": "9bce3752-0d4c-43c2-c46e-a7287995a672"
      },
      "execution_count": 28,
      "outputs": [
        {
          "output_type": "execute_result",
          "data": {
            "text/plain": [
              "2     1/18\n",
              "4      1/6\n",
              "6     5/18\n",
              "8     5/18\n",
              "10     1/6\n",
              "12    1/18\n",
              "dtype: object"
            ],
            "text/html": [
              "<div>\n",
              "<style scoped>\n",
              "    .dataframe tbody tr th:only-of-type {\n",
              "        vertical-align: middle;\n",
              "    }\n",
              "\n",
              "    .dataframe tbody tr th {\n",
              "        vertical-align: top;\n",
              "    }\n",
              "\n",
              "    .dataframe thead th {\n",
              "        text-align: right;\n",
              "    }\n",
              "</style>\n",
              "<table border=\"1\" class=\"dataframe\">\n",
              "  <thead>\n",
              "    <tr style=\"text-align: right;\">\n",
              "      <th></th>\n",
              "      <th>0</th>\n",
              "    </tr>\n",
              "  </thead>\n",
              "  <tbody>\n",
              "    <tr>\n",
              "      <th>2</th>\n",
              "      <td>1/18</td>\n",
              "    </tr>\n",
              "    <tr>\n",
              "      <th>4</th>\n",
              "      <td>1/6</td>\n",
              "    </tr>\n",
              "    <tr>\n",
              "      <th>6</th>\n",
              "      <td>5/18</td>\n",
              "    </tr>\n",
              "    <tr>\n",
              "      <th>8</th>\n",
              "      <td>5/18</td>\n",
              "    </tr>\n",
              "    <tr>\n",
              "      <th>10</th>\n",
              "      <td>1/6</td>\n",
              "    </tr>\n",
              "    <tr>\n",
              "      <th>12</th>\n",
              "      <td>1/18</td>\n",
              "    </tr>\n",
              "  </tbody>\n",
              "</table>\n",
              "</div><br><label><b>dtype:</b> object</label>"
            ]
          },
          "metadata": {},
          "execution_count": 28
        }
      ]
    },
    {
      "cell_type": "code",
      "source": [
        "P2 = sum(fS2.values)\n",
        "P2"
      ],
      "metadata": {
        "colab": {
          "base_uri": "https://localhost:8080/"
        },
        "id": "kyZZsxnD4qHF",
        "outputId": "1fd20ea5-0cb5-4889-fad8-a24aab3875a1"
      },
      "execution_count": 29,
      "outputs": [
        {
          "output_type": "execute_result",
          "data": {
            "text/plain": [
              "Fraction(1, 1)"
            ]
          },
          "metadata": {},
          "execution_count": 29
        }
      ]
    }
  ]
}