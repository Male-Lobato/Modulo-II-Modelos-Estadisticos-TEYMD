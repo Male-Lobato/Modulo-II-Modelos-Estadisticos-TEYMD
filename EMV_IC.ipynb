{
  "nbformat": 4,
  "nbformat_minor": 0,
  "metadata": {
    "colab": {
      "provenance": []
    },
    "kernelspec": {
      "name": "python3",
      "display_name": "Python 3"
    },
    "language_info": {
      "name": "python"
    }
  },
  "cells": [
    {
      "cell_type": "markdown",
      "source": [
        "# Tarea.\n"
      ],
      "metadata": {
        "id": "lU2x5qpOHS_Y"
      }
    },
    {
      "cell_type": "markdown",
      "source": [
        "## Estimador Máximo Verósimil\n",
        "\n",
        "- Una v.a $X$, es exponencial con parámetro $\\lambda >0$ si $$\\mathbb{P}(X)=1-e^{-\\lambda x}, x >0 $$\n",
        "Calcular el EMV\n",
        "\n"
      ],
      "metadata": {
        "id": "DBQyaEKLGnwg"
      }
    },
    {
      "cell_type": "markdown",
      "source": [
        "\n",
        "\n",
        "---\n",
        "\n",
        "**RESPUESTA**\n",
        "\n",
        "$f(x) = \\lambda e^{-\\lambda x}$\n",
        "\n",
        "$\\Rightarrow L(x_1,x_2,...,x_n) = f(x_1)f(x_2)...f(x_n)$\n",
        "$\\Rightarrow L(x_1,x_2,...,x_n) = \\lambda e^{-\\lambda x_1}\\lambda e^{-\\lambda x_2}...\\lambda e^{-\\lambda x_n}$\n",
        "\n",
        "$\\Rightarrow L(x_1,x_2,...,x_n) = \\lambda^n e^{-\\lambda \\sum^n_{x=1}(x_i)}$\n",
        "\n",
        "$\\Rightarrow log(\\lambda^n e^{-\\lambda \\sum^n_{x=1}(x_i)})=log(\\lambda^n) + log(e^{-\\lambda \\sum^n_{x=1}(x_i)})= nlog(\\lambda) -\\lambda  \\sum^n_{x=1}(x_i)$\n",
        "\n",
        "$\\Rightarrow \\frac{d}{d\\lambda}=n(\\frac{1}{\\lambda}) - \\sum^n_{x=1}(x_i)$\n",
        "\n",
        "$\\Rightarrow \\frac{n}{\\lambda}-\\sum^n_{x=1}(x_i) = 0$\n",
        "\n",
        "$\\Rightarrow \\frac{n}{\\lambda} = \\sum^n_{x=1}(x_i)$\n",
        "\n",
        "$$\\Rightarrow \\overline{\\lambda} = \\frac{n}{\\sum^n_{x=1}(x_i)}$$"
      ],
      "metadata": {
        "id": "DCG0-ia29P94"
      }
    },
    {
      "cell_type": "markdown",
      "source": [
        "- Supongamos que la vida útil de los focos de cierta marca se modela mediante una distribución exponencial con parámetro desconocido $\\lambda$. Probamos 5 focos y encontramops que la vida útil de $2,3,1,3$ y $4$ años respectivamente. ¿Cual es el EMV para $\\lambda$?\n"
      ],
      "metadata": {
        "id": "kghiWNZp9QZS"
      }
    },
    {
      "cell_type": "markdown",
      "source": [
        "\n",
        "\n",
        "---\n",
        "\n",
        "Como ya encontramos el EMV de una exponencial entonces solo aplicamos a los datos que tenemos"
      ],
      "metadata": {
        "id": "tk5DBj-tBqan"
      }
    },
    {
      "cell_type": "code",
      "source": [
        "x = [2,3,1,3,4]\n",
        "n = 5\n",
        "suma = sum (x)\n",
        "\n",
        "lamhat = n/suma\n",
        "print(lamhat)"
      ],
      "metadata": {
        "colab": {
          "base_uri": "https://localhost:8080/"
        },
        "id": "brrMjgCXF9Aj",
        "outputId": "9c79ff1b-438e-40b2-bd6e-90c6b5187946"
      },
      "execution_count": 16,
      "outputs": [
        {
          "output_type": "stream",
          "name": "stdout",
          "text": [
            "0.38461538461538464\n"
          ]
        }
      ]
    },
    {
      "cell_type": "markdown",
      "source": [
        "- Suponga que se tiene una variable aleatoria discreta $X$ con densidad:\n",
        "\t\\begin{align*}\n",
        "\tP(X=0)&=\\frac{2}{3}\\theta,\\\\\n",
        "\tP(X=1)&=\\frac{1}{3}\\theta,\\\\\n",
        "\tP(X=2)&=\\frac{2}{3}(1-\\theta),\\\\\n",
        "\tP(X=3)&=\\frac{1}{3}(1-\\theta)\n",
        "\t\\end{align*}\n",
        "  con $\\theta\\in [0,1]$. Se toman las siguientes $10$ observaciones independientes de acuerdo a la distribución dada:\n",
        "  $$(3, 0, 2, 1, 3, 2, 1, 0, 2, 1).$$\n",
        "  Encuentra el EMV de $\\theta$.\n",
        "\n"
      ],
      "metadata": {
        "id": "fC_9x7lgBq9C"
      }
    },
    {
      "cell_type": "markdown",
      "source": [
        "\n",
        "\n",
        "---\n",
        "\n"
      ],
      "metadata": {
        "id": "w1eXIwZwHq8H"
      }
    },
    {
      "cell_type": "code",
      "source": [
        "from scipy.stats import expon\n",
        "import numpy as np\n",
        "import sympy # para calculo simbolico y algebraico\n",
        "from sympy.abc import x,z,n"
      ],
      "metadata": {
        "id": "e4o7qUbrI29u"
      },
      "execution_count": 17,
      "outputs": []
    },
    {
      "cell_type": "code",
      "source": [
        "# Vamos a crear una variable simbolica p\n",
        "t = sympy.symbols('t',positive=True)"
      ],
      "metadata": {
        "id": "me6904LLJRqN"
      },
      "execution_count": 18,
      "outputs": []
    },
    {
      "cell_type": "code",
      "source": [
        "f0 = (2/3)*t\n",
        "f1 = (1/3)*t\n",
        "f2 = (2/3)*(1-t)\n",
        "f3 = (1/3)*(1-t)\n",
        "J = (2*f0)*(3*f1)*(3*f2)*(2*f3) #funcion de verosimilitud\n",
        "logJ = sympy.expand_log(sympy.log(J)) #log de la verosimilitud\n",
        "that = sympy.solve(sympy.diff(logJ,t),t)[0] #EMV\n",
        "print(\"El estimador de maxima verosimilitud es\", that)"
      ],
      "metadata": {
        "colab": {
          "base_uri": "https://localhost:8080/"
        },
        "id": "TbEONGsbIyCj",
        "outputId": "8c65cf9d-296e-484e-cc33-3c57596e59a8"
      },
      "execution_count": 33,
      "outputs": [
        {
          "output_type": "stream",
          "name": "stdout",
          "text": [
            "El estimador de maxima verosimilitud es 0.500000000000000\n"
          ]
        }
      ]
    },
    {
      "cell_type": "markdown",
      "source": [
        "## Intervalos de confianza\n",
        "\n",
        "- En una encuesta de la UP, 225 estudiantes son seleccionados al azar de los que toman cálculo y se les pregunta si cálculo es su materia favorita. 100 estudiantes responden que el cálculo es su materia favorita. Proporcione un intervalo de confianza del 95 %  para la proporción de todos los estudiantes que toman cálculo y que la consideran su materia favorita.  \n",
        "\n"
      ],
      "metadata": {
        "id": "t8HxHOcYHrXq"
      }
    },
    {
      "cell_type": "markdown",
      "source": [
        "\n",
        "\n",
        "---\n",
        "Para el intervalo de confianza de una proporcion, utilizamos la formula\n",
        "$$ p +/- \\sqrt{p(1-p)/n}$$\n"
      ],
      "metadata": {
        "id": "Rixi9SanREx_"
      }
    },
    {
      "cell_type": "code",
      "source": [
        "import statsmodels.api as sm"
      ],
      "metadata": {
        "id": "83zWsrU-nIuh"
      },
      "execution_count": 39,
      "outputs": []
    },
    {
      "cell_type": "code",
      "source": [
        "p = 100\n",
        "confidence = 0.95\n",
        "n = 225\n",
        "\n",
        "conf_int = sm.stats.proportion_confint(p, n, alpha=(1-confidence), method='normal')\n",
        "\n",
        "print(\"Intervalo de confianza:\", conf_int)\n"
      ],
      "metadata": {
        "colab": {
          "base_uri": "https://localhost:8080/"
        },
        "id": "LEA8CQo3luWX",
        "outputId": "70c91816-1702-486f-b7c7-d7078eebd2bb"
      },
      "execution_count": 40,
      "outputs": [
        {
          "output_type": "stream",
          "name": "stdout",
          "text": [
            "Intervalo de confianza: (0.37951684884617914, 0.5093720400427098)\n"
          ]
        }
      ]
    },
    {
      "cell_type": "markdown",
      "source": [
        "- Los datos\n",
        "\t$$1, 2, 3, 4$$\n",
        "  se toman a partir de una distribución normal $N(\\mu,\\sigma^2)$ con $\\mu$ desconocida.\n",
        "  1. Encuentra un intervalo de confianza al nivel de $90\\%$ para $\\mu$, dado que $\\sigma =2$.\n",
        "  "
      ],
      "metadata": {
        "id": "Igw4iAR1RFjL"
      }
    },
    {
      "cell_type": "code",
      "source": [
        "import numpy as np\n",
        "import scipy.stats as st"
      ],
      "metadata": {
        "id": "yW1Y07eDoq1K"
      },
      "execution_count": 42,
      "outputs": []
    },
    {
      "cell_type": "code",
      "source": [
        "data = [1,2,3,4]\n",
        "# Tamaño de la muestra\n",
        "n = len(data)\n",
        "\n",
        "# Media muestral\n",
        "mean = np.mean(data)\n",
        "\n",
        "# Desviación estándar conocida (sigma)\n",
        "sigma = 2\n",
        "confidence = 0.90\n",
        "# Nivel de confianza\n",
        "alpha = 1-confidence\n",
        "z = st.norm.ppf(1 - alpha / 2)  # Valor crítico de z\n",
        "\n",
        "# Calcular el intervalo de confianza\n",
        "margin_of_error = z * (sigma / np.sqrt(n))\n",
        "conf_int = (mean - margin_of_error, mean + margin_of_error)\n",
        "\n",
        "print(\"Intervalo de confianza para la media:\", conf_int)\n"
      ],
      "metadata": {
        "colab": {
          "base_uri": "https://localhost:8080/"
        },
        "id": "EUAPb3N4oJle",
        "outputId": "6a977669-7cda-435e-8497-a8f96da20f72"
      },
      "execution_count": 49,
      "outputs": [
        {
          "output_type": "stream",
          "name": "stdout",
          "text": [
            "Intervalo de confianza para la media: (0.8551463730485278, 4.144853626951472)\n"
          ]
        }
      ]
    },
    {
      "cell_type": "markdown",
      "source": [
        "  2. Encuentra un intervalo de confianza al nivel de $90\\%$ para $\\mu$.\n"
      ],
      "metadata": {
        "id": "F3gRioeQn_Nq"
      }
    },
    {
      "cell_type": "code",
      "source": [
        "data = [1,2,3,4]\n",
        "confidence = 0.90\n",
        "gl = len(data) - 1\n",
        "mean = np.mean(data)\n",
        "error_est = st.sem(data)\n",
        "\n",
        "# Intervalo para la media\n",
        "\n",
        "IC = st.t.interval(confidence,gl,loc=mean,scale=error_est)\n",
        "print(\"El intervalo del 90% de confianza para el peso medio de la poblacion es:\", IC)"
      ],
      "metadata": {
        "colab": {
          "base_uri": "https://localhost:8080/"
        },
        "id": "EVRBgMoEpW8l",
        "outputId": "59ab311e-e46f-4edd-f226-acc005a8a5ff"
      },
      "execution_count": 44,
      "outputs": [
        {
          "output_type": "stream",
          "name": "stdout",
          "text": [
            "El intervalo del 90% de confianza para el peso medio de la poblacion es: (0.9809104349065063, 4.019089565093493)\n"
          ]
        }
      ]
    },
    {
      "cell_type": "markdown",
      "source": [
        "  3. Encuentra un intervalo de confianza al nivel de $90\\%$ para $\\sigma^2$."
      ],
      "metadata": {
        "id": "_hO5kzLDpahw"
      }
    },
    {
      "cell_type": "code",
      "source": [
        "# Varianza muestral\n",
        "s2 = np.var(data, ddof=1)  # ddof=1 para la varianza muestral\n",
        "\n",
        "# Nivel de confianza\n",
        "alpha = 1-confidence\n",
        "\n",
        "# Valores críticos de chi-cuadrado\n",
        "chi2_lower = st.chi2.ppf(1 - alpha / 2, n - 1)\n",
        "chi2_upper = st.chi2.ppf(alpha / 2, n - 1)\n",
        "\n",
        "# Calcular el intervalo de confianza para la varianza\n",
        "conf_int = ( (n - 1) * s2 / chi2_lower, (n - 1) * s2 / chi2_upper)\n",
        "\n",
        "print(\"Intervalo de confianza para sigma^2:\", conf_int)"
      ],
      "metadata": {
        "colab": {
          "base_uri": "https://localhost:8080/"
        },
        "id": "Up5kHJdzq0et",
        "outputId": "5235626b-654b-45b9-8995-3ce09d289cd6"
      },
      "execution_count": 50,
      "outputs": [
        {
          "output_type": "stream",
          "name": "stdout",
          "text": [
            "Intervalo de confianza para sigma^2: (0.6398175421974498, 14.210749829597598)\n"
          ]
        }
      ]
    }
  ]
}